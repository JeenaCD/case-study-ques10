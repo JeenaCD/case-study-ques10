{
 "cells": [
  {
   "cell_type": "markdown",
   "id": "86ed80ac",
   "metadata": {},
   "source": [
    "## c. In the newly created script derive a child class called Parallelepiped class inheriting from the Rectangle class and with a height attribute and another Volume() method to calculate the volume of the Parallelepiped. \n",
    "d. Now create objects for parent class and child class in newly created \n",
    "script and access methods of parent class and child class. "
   ]
  },
  {
   "cell_type": "code",
   "execution_count": 4,
   "id": "aa13ed4a",
   "metadata": {},
   "outputs": [
    {
     "ename": "TypeError",
     "evalue": "module() takes at most 2 arguments (3 given)",
     "output_type": "error",
     "traceback": [
      "\u001b[1;31m---------------------------------------------------------------------------\u001b[0m",
      "\u001b[1;31mTypeError\u001b[0m                                 Traceback (most recent call last)",
      "\u001b[1;32m~\\AppData\\Local\\Temp\\ipykernel_23724\\1128164954.py\u001b[0m in \u001b[0;36m<module>\u001b[1;34m\u001b[0m\n\u001b[0;32m      1\u001b[0m \u001b[1;32mimport\u001b[0m \u001b[0mrectangle\u001b[0m\u001b[1;33m\u001b[0m\u001b[1;33m\u001b[0m\u001b[0m\n\u001b[0;32m      2\u001b[0m \u001b[1;33m\u001b[0m\u001b[0m\n\u001b[1;32m----> 3\u001b[1;33m \u001b[1;32mclass\u001b[0m \u001b[0mParallelepiped\u001b[0m\u001b[1;33m(\u001b[0m\u001b[0mrectangle\u001b[0m\u001b[1;33m)\u001b[0m\u001b[1;33m:\u001b[0m\u001b[1;33m\u001b[0m\u001b[1;33m\u001b[0m\u001b[0m\n\u001b[0m\u001b[0;32m      4\u001b[0m     \u001b[1;32mdef\u001b[0m \u001b[0m__init__\u001b[0m\u001b[1;33m(\u001b[0m\u001b[0mself\u001b[0m\u001b[1;33m,\u001b[0m\u001b[0mheight\u001b[0m\u001b[1;33m)\u001b[0m\u001b[1;33m:\u001b[0m\u001b[1;33m\u001b[0m\u001b[1;33m\u001b[0m\u001b[0m\n\u001b[0;32m      5\u001b[0m \u001b[1;31m#         rectangle.__init__(self, length, breadth)\u001b[0m\u001b[1;33m\u001b[0m\u001b[1;33m\u001b[0m\u001b[0m\n",
      "\u001b[1;31mTypeError\u001b[0m: module() takes at most 2 arguments (3 given)"
     ]
    }
   ],
   "source": [
    "import rectangle\n",
    "\n",
    "class Parallelepiped(rectangle):\n",
    "    def __init__(self, length,breadth , height):\n",
    "        rectangle.__init__(self, length, breadth)\n",
    "        self.height = height\n",
    "        \n",
    "    def volume(self):\n",
    "        return self.length*self.breadth*self.height\n",
    "        \n",
    "myRectangle = rectangle(7 , 5)\n",
    "myRectangle.display()\n",
    "\n",
    "myParallelepiped= Parallelepipede(7 , 5 , 2)\n",
    "print(\"the volume of Parallelepiped is: \" , myParallelepiped.volume())\n",
    "    "
   ]
  },
  {
   "cell_type": "code",
   "execution_count": null,
   "id": "e1b40066",
   "metadata": {},
   "outputs": [],
   "source": []
  }
 ],
 "metadata": {
  "kernelspec": {
   "display_name": "Python 3 (ipykernel)",
   "language": "python",
   "name": "python3"
  },
  "language_info": {
   "codemirror_mode": {
    "name": "ipython",
    "version": 3
   },
   "file_extension": ".py",
   "mimetype": "text/x-python",
   "name": "python",
   "nbconvert_exporter": "python",
   "pygments_lexer": "ipython3",
   "version": "3.9.13"
  }
 },
 "nbformat": 4,
 "nbformat_minor": 5
}
